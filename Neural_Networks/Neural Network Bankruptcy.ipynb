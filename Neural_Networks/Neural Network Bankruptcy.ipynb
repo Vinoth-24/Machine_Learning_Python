{
 "cells": [
  {
   "cell_type": "markdown",
   "metadata": {},
   "source": [
    "### Importing data"
   ]
  },
  {
   "cell_type": "code",
   "execution_count": 81,
   "metadata": {},
   "outputs": [
    {
     "data": {
      "text/html": [
       "<div>\n",
       "<style scoped>\n",
       "    .dataframe tbody tr th:only-of-type {\n",
       "        vertical-align: middle;\n",
       "    }\n",
       "\n",
       "    .dataframe tbody tr th {\n",
       "        vertical-align: top;\n",
       "    }\n",
       "\n",
       "    .dataframe thead th {\n",
       "        text-align: right;\n",
       "    }\n",
       "</style>\n",
       "<table border=\"1\" class=\"dataframe\">\n",
       "  <thead>\n",
       "    <tr style=\"text-align: right;\">\n",
       "      <th></th>\n",
       "      <th>industrial_risk</th>\n",
       "      <th>management_risk</th>\n",
       "      <th>financial_flexibility</th>\n",
       "      <th>credibility</th>\n",
       "      <th>competitiveness</th>\n",
       "      <th>operating_risk</th>\n",
       "      <th>class</th>\n",
       "    </tr>\n",
       "  </thead>\n",
       "  <tbody>\n",
       "    <tr>\n",
       "      <th>38</th>\n",
       "      <td>1.0</td>\n",
       "      <td>1.0</td>\n",
       "      <td>0.0</td>\n",
       "      <td>0.5</td>\n",
       "      <td>0.0</td>\n",
       "      <td>0.5</td>\n",
       "      <td>bankruptcy</td>\n",
       "    </tr>\n",
       "    <tr>\n",
       "      <th>146</th>\n",
       "      <td>0.5</td>\n",
       "      <td>0.5</td>\n",
       "      <td>0.5</td>\n",
       "      <td>1.0</td>\n",
       "      <td>0.5</td>\n",
       "      <td>0.0</td>\n",
       "      <td>non-bankruptcy</td>\n",
       "    </tr>\n",
       "    <tr>\n",
       "      <th>98</th>\n",
       "      <td>1.0</td>\n",
       "      <td>1.0</td>\n",
       "      <td>0.0</td>\n",
       "      <td>0.0</td>\n",
       "      <td>0.0</td>\n",
       "      <td>0.0</td>\n",
       "      <td>bankruptcy</td>\n",
       "    </tr>\n",
       "    <tr>\n",
       "      <th>243</th>\n",
       "      <td>0.0</td>\n",
       "      <td>1.0</td>\n",
       "      <td>1.0</td>\n",
       "      <td>1.0</td>\n",
       "      <td>1.0</td>\n",
       "      <td>0.0</td>\n",
       "      <td>non-bankruptcy</td>\n",
       "    </tr>\n",
       "    <tr>\n",
       "      <th>90</th>\n",
       "      <td>1.0</td>\n",
       "      <td>1.0</td>\n",
       "      <td>0.0</td>\n",
       "      <td>0.0</td>\n",
       "      <td>0.0</td>\n",
       "      <td>1.0</td>\n",
       "      <td>bankruptcy</td>\n",
       "    </tr>\n",
       "  </tbody>\n",
       "</table>\n",
       "</div>"
      ],
      "text/plain": [
       "     industrial_risk   management_risk   financial_flexibility   credibility  \\\n",
       "38               1.0               1.0                     0.0           0.5   \n",
       "146              0.5               0.5                     0.5           1.0   \n",
       "98               1.0               1.0                     0.0           0.0   \n",
       "243              0.0               1.0                     1.0           1.0   \n",
       "90               1.0               1.0                     0.0           0.0   \n",
       "\n",
       "      competitiveness   operating_risk           class  \n",
       "38                0.0              0.5      bankruptcy  \n",
       "146               0.5              0.0  non-bankruptcy  \n",
       "98                0.0              0.0      bankruptcy  \n",
       "243               1.0              0.0  non-bankruptcy  \n",
       "90                0.0              1.0      bankruptcy  "
      ]
     },
     "execution_count": 81,
     "metadata": {},
     "output_type": "execute_result"
    }
   ],
   "source": [
    "import numpy as np\n",
    "import pandas as pd \n",
    "import plotly.express as px\n",
    "import plotly.graph_objects as go\n",
    "data=pd.read_csv(\"A:\\\\Data Science by Excelr\\\\PROJECT\\\\bankruptcy_prevention.csv\",sep=\";\")\n",
    "data.sample(5)"
   ]
  },
  {
   "cell_type": "markdown",
   "metadata": {},
   "source": [
    "### Label Encoding for class(target)"
   ]
  },
  {
   "cell_type": "code",
   "execution_count": 82,
   "metadata": {},
   "outputs": [
    {
     "data": {
      "text/html": [
       "<div>\n",
       "<style scoped>\n",
       "    .dataframe tbody tr th:only-of-type {\n",
       "        vertical-align: middle;\n",
       "    }\n",
       "\n",
       "    .dataframe tbody tr th {\n",
       "        vertical-align: top;\n",
       "    }\n",
       "\n",
       "    .dataframe thead th {\n",
       "        text-align: right;\n",
       "    }\n",
       "</style>\n",
       "<table border=\"1\" class=\"dataframe\">\n",
       "  <thead>\n",
       "    <tr style=\"text-align: right;\">\n",
       "      <th></th>\n",
       "      <th>industrial_risk</th>\n",
       "      <th>management_risk</th>\n",
       "      <th>financial_flexibility</th>\n",
       "      <th>credibility</th>\n",
       "      <th>competitiveness</th>\n",
       "      <th>operating_risk</th>\n",
       "      <th>class</th>\n",
       "      <th>Bankruptcy</th>\n",
       "    </tr>\n",
       "  </thead>\n",
       "  <tbody>\n",
       "    <tr>\n",
       "      <th>149</th>\n",
       "      <td>0.5</td>\n",
       "      <td>1.0</td>\n",
       "      <td>1.0</td>\n",
       "      <td>0.5</td>\n",
       "      <td>1.0</td>\n",
       "      <td>1.0</td>\n",
       "      <td>non-bankruptcy</td>\n",
       "      <td>0</td>\n",
       "    </tr>\n",
       "    <tr>\n",
       "      <th>123</th>\n",
       "      <td>1.0</td>\n",
       "      <td>1.0</td>\n",
       "      <td>0.5</td>\n",
       "      <td>0.5</td>\n",
       "      <td>1.0</td>\n",
       "      <td>1.0</td>\n",
       "      <td>non-bankruptcy</td>\n",
       "      <td>0</td>\n",
       "    </tr>\n",
       "    <tr>\n",
       "      <th>204</th>\n",
       "      <td>0.0</td>\n",
       "      <td>0.5</td>\n",
       "      <td>0.5</td>\n",
       "      <td>1.0</td>\n",
       "      <td>1.0</td>\n",
       "      <td>1.0</td>\n",
       "      <td>non-bankruptcy</td>\n",
       "      <td>0</td>\n",
       "    </tr>\n",
       "    <tr>\n",
       "      <th>161</th>\n",
       "      <td>0.5</td>\n",
       "      <td>0.5</td>\n",
       "      <td>0.0</td>\n",
       "      <td>1.0</td>\n",
       "      <td>1.0</td>\n",
       "      <td>0.5</td>\n",
       "      <td>non-bankruptcy</td>\n",
       "      <td>0</td>\n",
       "    </tr>\n",
       "    <tr>\n",
       "      <th>158</th>\n",
       "      <td>0.5</td>\n",
       "      <td>1.0</td>\n",
       "      <td>0.5</td>\n",
       "      <td>0.5</td>\n",
       "      <td>1.0</td>\n",
       "      <td>0.0</td>\n",
       "      <td>non-bankruptcy</td>\n",
       "      <td>0</td>\n",
       "    </tr>\n",
       "  </tbody>\n",
       "</table>\n",
       "</div>"
      ],
      "text/plain": [
       "     industrial_risk   management_risk   financial_flexibility   credibility  \\\n",
       "149              0.5               1.0                     1.0           0.5   \n",
       "123              1.0               1.0                     0.5           0.5   \n",
       "204              0.0               0.5                     0.5           1.0   \n",
       "161              0.5               0.5                     0.0           1.0   \n",
       "158              0.5               1.0                     0.5           0.5   \n",
       "\n",
       "      competitiveness   operating_risk           class  Bankruptcy  \n",
       "149               1.0              1.0  non-bankruptcy           0  \n",
       "123               1.0              1.0  non-bankruptcy           0  \n",
       "204               1.0              1.0  non-bankruptcy           0  \n",
       "161               1.0              0.5  non-bankruptcy           0  \n",
       "158               1.0              0.0  non-bankruptcy           0  "
      ]
     },
     "execution_count": 82,
     "metadata": {},
     "output_type": "execute_result"
    }
   ],
   "source": [
    "data['Bankruptcy'] = [\n",
    "    1 if typ == 'bankruptcy' else 0 for typ in data[' class']\n",
    "]\n",
    "data.sample(5)"
   ]
  },
  {
   "cell_type": "markdown",
   "metadata": {},
   "source": [
    "### Splitting into features and a target"
   ]
  },
  {
   "cell_type": "code",
   "execution_count": 83,
   "metadata": {},
   "outputs": [],
   "source": [
    "features=data.columns[0:6]\n",
    "X=data[features]\n",
    "y=data['Bankruptcy']"
   ]
  },
  {
   "cell_type": "markdown",
   "metadata": {},
   "source": [
    "### Splitting into train and test data"
   ]
  },
  {
   "cell_type": "code",
   "execution_count": 84,
   "metadata": {},
   "outputs": [
    {
     "data": {
      "text/plain": [
       "(     industrial_risk   management_risk   financial_flexibility   credibility  \\\n",
       " 228              1.0               1.0                     1.0           0.5   \n",
       " 85               0.5               0.5                     0.0           0.0   \n",
       " 112              0.5               0.5                     1.0           1.0   \n",
       " 148              1.0               0.5                     1.0           1.0   \n",
       " 171              0.0               1.0                     0.0           1.0   \n",
       " ..               ...               ...                     ...           ...   \n",
       " 137              0.0               1.0                     1.0           1.0   \n",
       " 72               1.0               0.5                     1.0           0.5   \n",
       " 140              1.0               0.0                     0.5           1.0   \n",
       " 235              0.5               0.5                     1.0           0.5   \n",
       " 37               1.0               1.0                     0.0           0.0   \n",
       " \n",
       "       competitiveness   operating_risk  \n",
       " 228               0.5              1.0  \n",
       " 85                0.0              1.0  \n",
       " 112               1.0              0.5  \n",
       " 148               1.0              1.0  \n",
       " 171               1.0              0.5  \n",
       " ..                ...              ...  \n",
       " 137               1.0              1.0  \n",
       " 72                0.0              0.0  \n",
       " 140               0.5              0.0  \n",
       " 235               0.5              0.5  \n",
       " 37                0.0              1.0  \n",
       " \n",
       " [200 rows x 6 columns],\n",
       " 228    0\n",
       " 85     1\n",
       " 112    0\n",
       " 148    0\n",
       " 171    0\n",
       "       ..\n",
       " 137    0\n",
       " 72     1\n",
       " 140    0\n",
       " 235    0\n",
       " 37     1\n",
       " Name: Bankruptcy, Length: 200, dtype: int64)"
      ]
     },
     "execution_count": 84,
     "metadata": {},
     "output_type": "execute_result"
    }
   ],
   "source": [
    "from sklearn.model_selection import train_test_split\n",
    "X_train, X_test, y_train, y_test = train_test_split(X, y, test_size=0.2, random_state=1)\n",
    "X_train,y_train"
   ]
  },
  {
   "cell_type": "markdown",
   "metadata": {},
   "source": [
    "### Using Standard scalar for better performance on Neural Networks"
   ]
  },
  {
   "cell_type": "code",
   "execution_count": 85,
   "metadata": {},
   "outputs": [
    {
     "data": {
      "text/plain": [
       "array([[ 1.17422957,  0.94822374,  1.47772983,  0.06611766,  0.0113235 ,\n",
       "         1.04253923],\n",
       "       [-0.04892623, -0.29943908, -0.94477809, -1.13602165, -1.12102613,\n",
       "         1.04253923],\n",
       "       [-0.04892623, -0.29943908,  1.47772983,  1.26825697,  1.14367312,\n",
       "        -0.10310828],\n",
       "       ...,\n",
       "       [ 1.17422957, -1.5471019 ,  0.26647587,  1.26825697,  0.0113235 ,\n",
       "        -1.24875578],\n",
       "       [-0.04892623, -0.29943908,  1.47772983,  0.06611766,  0.0113235 ,\n",
       "        -0.10310828],\n",
       "       [ 1.17422957,  0.94822374, -0.94477809, -1.13602165, -1.12102613,\n",
       "         1.04253923]])"
      ]
     },
     "execution_count": 85,
     "metadata": {},
     "output_type": "execute_result"
    }
   ],
   "source": [
    "from sklearn.preprocessing import StandardScaler\n",
    "scaler = StandardScaler()\n",
    "X_train_scaled = scaler.fit_transform(X_train)\n",
    "X_test_scaled = scaler.transform(X_test)\n",
    "X_train_scaled"
   ]
  },
  {
   "cell_type": "code",
   "execution_count": null,
   "metadata": {},
   "outputs": [],
   "source": []
  },
  {
   "cell_type": "code",
   "execution_count": null,
   "metadata": {},
   "outputs": [],
   "source": []
  },
  {
   "cell_type": "code",
   "execution_count": null,
   "metadata": {},
   "outputs": [],
   "source": []
  },
  {
   "cell_type": "code",
   "execution_count": null,
   "metadata": {},
   "outputs": [],
   "source": []
  },
  {
   "cell_type": "code",
   "execution_count": null,
   "metadata": {},
   "outputs": [],
   "source": []
  },
  {
   "cell_type": "code",
   "execution_count": null,
   "metadata": {},
   "outputs": [],
   "source": []
  },
  {
   "cell_type": "markdown",
   "metadata": {},
   "source": [
    "### Creating Neural Network layers.\n",
    "#### We have used Adam optimizer, loss func as Binary Crossentropy, Activation fn as Relu for all layers and Sigmoid for the Output layer and Metrics as Accuracy, precision and Recall."
   ]
  },
  {
   "cell_type": "code",
   "execution_count": 73,
   "metadata": {},
   "outputs": [
    {
     "name": "stdout",
     "output_type": "stream",
     "text": [
      "Epoch 1/100\n",
      "7/7 [==============================] - 1s 3ms/step - loss: 0.2395 - accuracy: 0.8700 - precision: 0.8519 - recall: 0.8313\n",
      "Epoch 2/100\n",
      "7/7 [==============================] - 0s 2ms/step - loss: 0.0462 - accuracy: 0.9900 - precision: 0.9880 - recall: 0.9880\n",
      "Epoch 3/100\n",
      "7/7 [==============================] - 0s 2ms/step - loss: 0.0615 - accuracy: 0.9900 - precision: 0.9765 - recall: 1.0000\n",
      "Epoch 4/100\n",
      "7/7 [==============================] - 0s 2ms/step - loss: 0.0036 - accuracy: 1.0000 - precision: 1.0000 - recall: 1.0000\n",
      "Epoch 5/100\n",
      "7/7 [==============================] - 0s 2ms/step - loss: 4.0367e-04 - accuracy: 1.0000 - precision: 1.0000 - recall: 1.0000\n",
      "Epoch 6/100\n",
      "7/7 [==============================] - 0s 3ms/step - loss: 0.0030 - accuracy: 1.0000 - precision: 1.0000 - recall: 1.0000\n",
      "Epoch 7/100\n",
      "7/7 [==============================] - 0s 2ms/step - loss: 3.5013e-07 - accuracy: 1.0000 - precision: 1.0000 - recall: 1.0000\n",
      "Epoch 8/100\n",
      "7/7 [==============================] - 0s 2ms/step - loss: 4.7395e-07 - accuracy: 1.0000 - precision: 1.0000 - recall: 1.0000\n",
      "Epoch 9/100\n",
      "7/7 [==============================] - 0s 3ms/step - loss: 5.8118e-07 - accuracy: 1.0000 - precision: 1.0000 - recall: 1.0000\n",
      "Epoch 10/100\n",
      "7/7 [==============================] - 0s 2ms/step - loss: 6.1717e-07 - accuracy: 1.0000 - precision: 1.0000 - recall: 1.0000\n",
      "Epoch 11/100\n",
      "7/7 [==============================] - 0s 2ms/step - loss: 6.8779e-07 - accuracy: 1.0000 - precision: 1.0000 - recall: 1.0000\n",
      "Epoch 12/100\n",
      "7/7 [==============================] - 0s 3ms/step - loss: 7.0316e-07 - accuracy: 1.0000 - precision: 1.0000 - recall: 1.0000\n",
      "Epoch 13/100\n",
      "7/7 [==============================] - 0s 3ms/step - loss: 7.1859e-07 - accuracy: 1.0000 - precision: 1.0000 - recall: 1.0000\n",
      "Epoch 14/100\n",
      "7/7 [==============================] - 0s 2ms/step - loss: 7.1926e-07 - accuracy: 1.0000 - precision: 1.0000 - recall: 1.0000\n",
      "Epoch 15/100\n",
      "7/7 [==============================] - 0s 3ms/step - loss: 7.1714e-07 - accuracy: 1.0000 - precision: 1.0000 - recall: 1.0000\n",
      "Epoch 16/100\n",
      "7/7 [==============================] - 0s 2ms/step - loss: 7.1212e-07 - accuracy: 1.0000 - precision: 1.0000 - recall: 1.0000\n",
      "Epoch 17/100\n",
      "7/7 [==============================] - 0s 3ms/step - loss: 7.0623e-07 - accuracy: 1.0000 - precision: 1.0000 - recall: 1.0000\n",
      "Epoch 18/100\n",
      "7/7 [==============================] - 0s 2ms/step - loss: 6.9915e-07 - accuracy: 1.0000 - precision: 1.0000 - recall: 1.0000\n",
      "Epoch 19/100\n",
      "7/7 [==============================] - 0s 2ms/step - loss: 6.9091e-07 - accuracy: 1.0000 - precision: 1.0000 - recall: 1.0000\n",
      "Epoch 20/100\n",
      "7/7 [==============================] - 0s 3ms/step - loss: 6.8546e-07 - accuracy: 1.0000 - precision: 1.0000 - recall: 1.0000\n",
      "Epoch 21/100\n",
      "7/7 [==============================] - 0s 3ms/step - loss: 6.7713e-07 - accuracy: 1.0000 - precision: 1.0000 - recall: 1.0000\n",
      "Epoch 22/100\n",
      "7/7 [==============================] - 0s 3ms/step - loss: 6.6874e-07 - accuracy: 1.0000 - precision: 1.0000 - recall: 1.0000\n",
      "Epoch 23/100\n",
      "7/7 [==============================] - 0s 3ms/step - loss: 6.6183e-07 - accuracy: 1.0000 - precision: 1.0000 - recall: 1.0000\n",
      "Epoch 24/100\n",
      "7/7 [==============================] - 0s 3ms/step - loss: 6.5585e-07 - accuracy: 1.0000 - precision: 1.0000 - recall: 1.0000\n",
      "Epoch 25/100\n",
      "7/7 [==============================] - 0s 2ms/step - loss: 6.4742e-07 - accuracy: 1.0000 - precision: 1.0000 - recall: 1.0000\n",
      "Epoch 26/100\n",
      "7/7 [==============================] - 0s 2ms/step - loss: 6.4012e-07 - accuracy: 1.0000 - precision: 1.0000 - recall: 1.0000\n",
      "Epoch 27/100\n",
      "7/7 [==============================] - 0s 3ms/step - loss: 6.3321e-07 - accuracy: 1.0000 - precision: 1.0000 - recall: 1.0000\n",
      "Epoch 28/100\n",
      "7/7 [==============================] - 0s 3ms/step - loss: 6.2418e-07 - accuracy: 1.0000 - precision: 1.0000 - recall: 1.0000\n",
      "Epoch 29/100\n",
      "7/7 [==============================] - 0s 2ms/step - loss: 6.1519e-07 - accuracy: 1.0000 - precision: 1.0000 - recall: 1.0000\n",
      "Epoch 30/100\n",
      "7/7 [==============================] - 0s 3ms/step - loss: 6.0979e-07 - accuracy: 1.0000 - precision: 1.0000 - recall: 1.0000\n",
      "Epoch 31/100\n",
      "7/7 [==============================] - 0s 2ms/step - loss: 5.9935e-07 - accuracy: 1.0000 - precision: 1.0000 - recall: 1.0000\n",
      "Epoch 32/100\n",
      "7/7 [==============================] - 0s 2ms/step - loss: 5.9438e-07 - accuracy: 1.0000 - precision: 1.0000 - recall: 1.0000\n",
      "Epoch 33/100\n",
      "7/7 [==============================] - 0s 2ms/step - loss: 5.8517e-07 - accuracy: 1.0000 - precision: 1.0000 - recall: 1.0000\n",
      "Epoch 34/100\n",
      "7/7 [==============================] - 0s 3ms/step - loss: 5.7667e-07 - accuracy: 1.0000 - precision: 1.0000 - recall: 1.0000\n",
      "Epoch 35/100\n",
      "7/7 [==============================] - 0s 3ms/step - loss: 5.7151e-07 - accuracy: 1.0000 - precision: 1.0000 - recall: 1.0000\n",
      "Epoch 36/100\n",
      "7/7 [==============================] - 0s 3ms/step - loss: 5.6124e-07 - accuracy: 1.0000 - precision: 1.0000 - recall: 1.0000\n",
      "Epoch 37/100\n",
      "7/7 [==============================] - 0s 3ms/step - loss: 5.5345e-07 - accuracy: 1.0000 - precision: 1.0000 - recall: 1.0000\n",
      "Epoch 38/100\n",
      "7/7 [==============================] - 0s 3ms/step - loss: 5.4627e-07 - accuracy: 1.0000 - precision: 1.0000 - recall: 1.0000\n",
      "Epoch 39/100\n",
      "7/7 [==============================] - 0s 3ms/step - loss: 5.3896e-07 - accuracy: 1.0000 - precision: 1.0000 - recall: 1.0000\n",
      "Epoch 40/100\n",
      "7/7 [==============================] - 0s 2ms/step - loss: 5.3037e-07 - accuracy: 1.0000 - precision: 1.0000 - recall: 1.0000\n",
      "Epoch 41/100\n",
      "7/7 [==============================] - 0s 3ms/step - loss: 5.1994e-07 - accuracy: 1.0000 - precision: 1.0000 - recall: 1.0000\n",
      "Epoch 42/100\n",
      "7/7 [==============================] - 0s 4ms/step - loss: 5.1389e-07 - accuracy: 1.0000 - precision: 1.0000 - recall: 1.0000\n",
      "Epoch 43/100\n",
      "7/7 [==============================] - 0s 3ms/step - loss: 5.0445e-07 - accuracy: 1.0000 - precision: 1.0000 - recall: 1.0000\n",
      "Epoch 44/100\n",
      "7/7 [==============================] - 0s 3ms/step - loss: 4.9773e-07 - accuracy: 1.0000 - precision: 1.0000 - recall: 1.0000\n",
      "Epoch 45/100\n",
      "7/7 [==============================] - 0s 3ms/step - loss: 4.9151e-07 - accuracy: 1.0000 - precision: 1.0000 - recall: 1.0000\n",
      "Epoch 46/100\n",
      "7/7 [==============================] - 0s 3ms/step - loss: 4.8227e-07 - accuracy: 1.0000 - precision: 1.0000 - recall: 1.0000\n",
      "Epoch 47/100\n",
      "7/7 [==============================] - 0s 3ms/step - loss: 4.7454e-07 - accuracy: 1.0000 - precision: 1.0000 - recall: 1.0000\n",
      "Epoch 48/100\n",
      "7/7 [==============================] - 0s 2ms/step - loss: 4.6683e-07 - accuracy: 1.0000 - precision: 1.0000 - recall: 1.0000\n",
      "Epoch 49/100\n",
      "7/7 [==============================] - 0s 3ms/step - loss: 4.5799e-07 - accuracy: 1.0000 - precision: 1.0000 - recall: 1.0000\n",
      "Epoch 50/100\n",
      "7/7 [==============================] - 0s 2ms/step - loss: 4.5111e-07 - accuracy: 1.0000 - precision: 1.0000 - recall: 1.0000\n",
      "Epoch 51/100\n",
      "7/7 [==============================] - 0s 3ms/step - loss: 4.4253e-07 - accuracy: 1.0000 - precision: 1.0000 - recall: 1.0000\n",
      "Epoch 52/100\n",
      "7/7 [==============================] - 0s 2ms/step - loss: 4.3439e-07 - accuracy: 1.0000 - precision: 1.0000 - recall: 1.0000\n",
      "Epoch 53/100\n",
      "7/7 [==============================] - 0s 3ms/step - loss: 4.2668e-07 - accuracy: 1.0000 - precision: 1.0000 - recall: 1.0000\n",
      "Epoch 54/100\n",
      "7/7 [==============================] - 0s 3ms/step - loss: 4.1962e-07 - accuracy: 1.0000 - precision: 1.0000 - recall: 1.0000\n",
      "Epoch 55/100\n",
      "7/7 [==============================] - 0s 3ms/step - loss: 4.1118e-07 - accuracy: 1.0000 - precision: 1.0000 - recall: 1.0000\n",
      "Epoch 56/100\n",
      "7/7 [==============================] - 0s 3ms/step - loss: 4.0498e-07 - accuracy: 1.0000 - precision: 1.0000 - recall: 1.0000\n",
      "Epoch 57/100\n",
      "7/7 [==============================] - 0s 3ms/step - loss: 3.9637e-07 - accuracy: 1.0000 - precision: 1.0000 - recall: 1.0000\n",
      "Epoch 58/100\n",
      "7/7 [==============================] - 0s 3ms/step - loss: 3.8865e-07 - accuracy: 1.0000 - precision: 1.0000 - recall: 1.0000\n",
      "Epoch 59/100\n",
      "7/7 [==============================] - 0s 3ms/step - loss: 3.8311e-07 - accuracy: 1.0000 - precision: 1.0000 - recall: 1.0000\n",
      "Epoch 60/100\n",
      "7/7 [==============================] - 0s 3ms/step - loss: 3.7316e-07 - accuracy: 1.0000 - precision: 1.0000 - recall: 1.0000\n",
      "Epoch 61/100\n",
      "7/7 [==============================] - 0s 3ms/step - loss: 3.6505e-07 - accuracy: 1.0000 - precision: 1.0000 - recall: 1.0000\n",
      "Epoch 62/100\n",
      "7/7 [==============================] - 0s 2ms/step - loss: 3.5857e-07 - accuracy: 1.0000 - precision: 1.0000 - recall: 1.0000\n",
      "Epoch 63/100\n",
      "7/7 [==============================] - 0s 2ms/step - loss: 3.5239e-07 - accuracy: 1.0000 - precision: 1.0000 - recall: 1.0000\n",
      "Epoch 64/100\n",
      "7/7 [==============================] - 0s 2ms/step - loss: 3.4420e-07 - accuracy: 1.0000 - precision: 1.0000 - recall: 1.0000\n",
      "Epoch 65/100\n",
      "7/7 [==============================] - 0s 2ms/step - loss: 3.3813e-07 - accuracy: 1.0000 - precision: 1.0000 - recall: 1.0000\n",
      "Epoch 66/100\n",
      "7/7 [==============================] - 0s 2ms/step - loss: 3.3266e-07 - accuracy: 1.0000 - precision: 1.0000 - recall: 1.0000\n",
      "Epoch 67/100\n",
      "7/7 [==============================] - 0s 2ms/step - loss: 3.1899e-07 - accuracy: 1.0000 - precision: 1.0000 - recall: 1.0000\n",
      "Epoch 68/100\n",
      "7/7 [==============================] - 0s 2ms/step - loss: 3.1209e-07 - accuracy: 1.0000 - precision: 1.0000 - recall: 1.0000\n",
      "Epoch 69/100\n",
      "7/7 [==============================] - 0s 2ms/step - loss: 3.0656e-07 - accuracy: 1.0000 - precision: 1.0000 - recall: 1.0000\n",
      "Epoch 70/100\n",
      "7/7 [==============================] - 0s 2ms/step - loss: 2.9425e-07 - accuracy: 1.0000 - precision: 1.0000 - recall: 1.0000\n",
      "Epoch 71/100\n",
      "7/7 [==============================] - 0s 2ms/step - loss: 2.8690e-07 - accuracy: 1.0000 - precision: 1.0000 - recall: 1.0000\n",
      "Epoch 72/100\n",
      "7/7 [==============================] - 0s 2ms/step - loss: 2.8055e-07 - accuracy: 1.0000 - precision: 1.0000 - recall: 1.0000\n",
      "Epoch 73/100\n",
      "7/7 [==============================] - 0s 2ms/step - loss: 2.7456e-07 - accuracy: 1.0000 - precision: 1.0000 - recall: 1.0000\n",
      "Epoch 74/100\n",
      "7/7 [==============================] - 0s 2ms/step - loss: 2.6940e-07 - accuracy: 1.0000 - precision: 1.0000 - recall: 1.0000\n",
      "Epoch 75/100\n",
      "7/7 [==============================] - 0s 2ms/step - loss: 2.6486e-07 - accuracy: 1.0000 - precision: 1.0000 - recall: 1.0000\n",
      "Epoch 76/100\n",
      "7/7 [==============================] - 0s 2ms/step - loss: 2.5855e-07 - accuracy: 1.0000 - precision: 1.0000 - recall: 1.0000\n",
      "Epoch 77/100\n",
      "7/7 [==============================] - 0s 2ms/step - loss: 2.5375e-07 - accuracy: 1.0000 - precision: 1.0000 - recall: 1.0000\n",
      "Epoch 78/100\n",
      "7/7 [==============================] - 0s 2ms/step - loss: 2.4898e-07 - accuracy: 1.0000 - precision: 1.0000 - recall: 1.0000\n",
      "Epoch 79/100\n",
      "7/7 [==============================] - 0s 2ms/step - loss: 2.4473e-07 - accuracy: 1.0000 - precision: 1.0000 - recall: 1.0000\n",
      "Epoch 80/100\n",
      "7/7 [==============================] - 0s 2ms/step - loss: 2.3997e-07 - accuracy: 1.0000 - precision: 1.0000 - recall: 1.0000\n",
      "Epoch 81/100\n",
      "7/7 [==============================] - 0s 2ms/step - loss: 2.3532e-07 - accuracy: 1.0000 - precision: 1.0000 - recall: 1.0000\n",
      "Epoch 82/100\n",
      "7/7 [==============================] - 0s 2ms/step - loss: 2.3137e-07 - accuracy: 1.0000 - precision: 1.0000 - recall: 1.0000\n",
      "Epoch 83/100\n",
      "7/7 [==============================] - 0s 2ms/step - loss: 2.2658e-07 - accuracy: 1.0000 - precision: 1.0000 - recall: 1.0000\n",
      "Epoch 84/100\n",
      "7/7 [==============================] - 0s 2ms/step - loss: 2.2097e-07 - accuracy: 1.0000 - precision: 1.0000 - recall: 1.0000\n",
      "Epoch 85/100\n",
      "7/7 [==============================] - 0s 2ms/step - loss: 2.1661e-07 - accuracy: 1.0000 - precision: 1.0000 - recall: 1.0000\n",
      "Epoch 86/100\n",
      "7/7 [==============================] - 0s 2ms/step - loss: 2.1133e-07 - accuracy: 1.0000 - precision: 1.0000 - recall: 1.0000\n",
      "Epoch 87/100\n",
      "7/7 [==============================] - 0s 3ms/step - loss: 2.0724e-07 - accuracy: 1.0000 - precision: 1.0000 - recall: 1.0000\n",
      "Epoch 88/100\n",
      "7/7 [==============================] - 0s 2ms/step - loss: 2.0371e-07 - accuracy: 1.0000 - precision: 1.0000 - recall: 1.0000\n",
      "Epoch 89/100\n",
      "7/7 [==============================] - 0s 2ms/step - loss: 1.9908e-07 - accuracy: 1.0000 - precision: 1.0000 - recall: 1.0000\n",
      "Epoch 90/100\n",
      "7/7 [==============================] - 0s 2ms/step - loss: 1.9572e-07 - accuracy: 1.0000 - precision: 1.0000 - recall: 1.0000\n",
      "Epoch 91/100\n",
      "7/7 [==============================] - 0s 3ms/step - loss: 1.9265e-07 - accuracy: 1.0000 - precision: 1.0000 - recall: 1.0000\n",
      "Epoch 92/100\n",
      "7/7 [==============================] - 0s 2ms/step - loss: 1.8901e-07 - accuracy: 1.0000 - precision: 1.0000 - recall: 1.0000\n",
      "Epoch 93/100\n",
      "7/7 [==============================] - 0s 2ms/step - loss: 1.8561e-07 - accuracy: 1.0000 - precision: 1.0000 - recall: 1.0000\n",
      "Epoch 94/100\n",
      "7/7 [==============================] - 0s 2ms/step - loss: 1.8227e-07 - accuracy: 1.0000 - precision: 1.0000 - recall: 1.0000\n",
      "Epoch 95/100\n",
      "7/7 [==============================] - 0s 2ms/step - loss: 1.7888e-07 - accuracy: 1.0000 - precision: 1.0000 - recall: 1.0000\n",
      "Epoch 96/100\n",
      "7/7 [==============================] - 0s 2ms/step - loss: 1.7572e-07 - accuracy: 1.0000 - precision: 1.0000 - recall: 1.0000\n",
      "Epoch 97/100\n",
      "7/7 [==============================] - 0s 2ms/step - loss: 1.7282e-07 - accuracy: 1.0000 - precision: 1.0000 - recall: 1.0000\n",
      "Epoch 98/100\n",
      "7/7 [==============================] - 0s 2ms/step - loss: 1.6993e-07 - accuracy: 1.0000 - precision: 1.0000 - recall: 1.0000\n",
      "Epoch 99/100\n",
      "7/7 [==============================] - 0s 3ms/step - loss: 1.6720e-07 - accuracy: 1.0000 - precision: 1.0000 - recall: 1.0000\n",
      "Epoch 100/100\n",
      "7/7 [==============================] - 0s 3ms/step - loss: 1.6449e-07 - accuracy: 1.0000 - precision: 1.0000 - recall: 1.0000\n"
     ]
    }
   ],
   "source": [
    "import tensorflow as tf\n",
    "tf.random.set_seed(42)\n",
    "model = tf.keras.Sequential([\n",
    "    tf.keras.layers.Dense(128, activation='relu'),\n",
    "    tf.keras.layers.Dense(256, activation='relu'),\n",
    "    tf.keras.layers.Dense(256, activation='relu'),\n",
    "    tf.keras.layers.Dense(1, activation='sigmoid')\n",
    "])\n",
    "model.compile(\n",
    "    loss=tf.keras.losses.binary_crossentropy,\n",
    "    optimizer=tf.keras.optimizers.Adam(lr=0.01),\n",
    "    metrics=[\n",
    "        tf.keras.metrics.BinaryAccuracy(name='accuracy'),\n",
    "        tf.keras.metrics.Precision(name='precision'),\n",
    "        tf.keras.metrics.Recall(name='recall')\n",
    "    ]\n",
    ")\n",
    "history = model.fit(X_train_scaled, y_train, epochs=100)"
   ]
  },
  {
   "cell_type": "markdown",
   "metadata": {},
   "source": [
    "### Plotting the Evaluation Metrics w.r.t No. of Epochs"
   ]
  },
  {
   "cell_type": "code",
   "execution_count": 79,
   "metadata": {},
   "outputs": [
    {
     "data": {
      "image/png": "[encoded data removed]",
      "text/plain": [
       "<Figure size 1296x576 with 1 Axes>"
      ]
     },
     "metadata": {
      "needs_background": "light"
     },
     "output_type": "display_data"
    }
   ],
   "source": [
    "import matplotlib.pyplot as plt\n",
    "from matplotlib import rcParams\n",
    "rcParams['figure.figsize'] = (18, 8)\n",
    "rcParams['axes.spines.top'] = False\n",
    "rcParams['axes.spines.right'] = False\n",
    "plt.plot(\n",
    "    np.arange(1, 101), \n",
    "    history.history['loss'], label='Loss'\n",
    ")\n",
    "plt.plot(\n",
    "    np.arange(1, 101), \n",
    "    history.history['accuracy'], label='Accuracy'\n",
    ")\n",
    "plt.plot(\n",
    "    np.arange(1, 101), \n",
    "    history.history['precision'], label='Precision'\n",
    ")\n",
    "plt.plot(\n",
    "    np.arange(1, 101), \n",
    "    history.history['recall'], label='Recall'\n",
    ")\n",
    "plt.title('Evaluation metrics', size=20)\n",
    "plt.xlabel('Epoch', size=14)\n",
    "plt.legend();"
   ]
  },
  {
   "cell_type": "markdown",
   "metadata": {},
   "source": [
    "#### From graph we can see that the Neural network has reached maximum accuracy, precision and recall with the lowest loss.\n",
    "***"
   ]
  },
  {
   "cell_type": "markdown",
   "metadata": {},
   "source": [
    "### Now predicting to check whether our model has been overfitted."
   ]
  },
  {
   "cell_type": "code",
   "execution_count": 80,
   "metadata": {},
   "outputs": [
    {
     "data": {
      "text/plain": [
       "array([[1.0000000e+00],\n",
       "       [4.1659865e-21],\n",
       "       [7.5509640e-11],\n",
       "       [4.4066224e-15],\n",
       "       [1.0000000e+00],\n",
       "       [4.0109317e-21],\n",
       "       [1.0000000e+00],\n",
       "       [7.9553237e-22],\n",
       "       [2.0911139e-24],\n",
       "       [1.0000000e+00],\n",
       "       [1.2380881e-10],\n",
       "       [4.5987324e-13],\n",
       "       [4.0109317e-21],\n",
       "       [2.1789174e-29],\n",
       "       [7.3940786e-14],\n",
       "       [1.0000000e+00],\n",
       "       [4.5987324e-13],\n",
       "       [1.0000000e+00],\n",
       "       [1.0000000e+00],\n",
       "       [1.0000000e+00],\n",
       "       [1.6167647e-22],\n",
       "       [1.0000000e+00],\n",
       "       [1.0000000e+00],\n",
       "       [2.8325033e-07],\n",
       "       [1.0494197e-14],\n",
       "       [7.7278234e-21],\n",
       "       [1.5764460e-16],\n",
       "       [2.4104499e-24],\n",
       "       [1.0000000e+00],\n",
       "       [1.6944050e-07],\n",
       "       [1.6846254e-27],\n",
       "       [1.0000000e+00],\n",
       "       [1.0000000e+00],\n",
       "       [1.9014795e-06],\n",
       "       [9.1463549e-16],\n",
       "       [7.5509640e-11],\n",
       "       [1.0000000e+00],\n",
       "       [1.0000000e+00],\n",
       "       [1.0000000e+00],\n",
       "       [7.3765251e-11],\n",
       "       [3.0966701e-26],\n",
       "       [1.0000000e+00],\n",
       "       [1.0000000e+00],\n",
       "       [1.0000000e+00],\n",
       "       [1.0000000e+00],\n",
       "       [1.6981509e-32],\n",
       "       [1.0000000e+00],\n",
       "       [1.0000000e+00],\n",
       "       [1.0000000e+00],\n",
       "       [1.0000000e+00]], dtype=float32)"
      ]
     },
     "execution_count": 80,
     "metadata": {},
     "output_type": "execute_result"
    }
   ],
   "source": [
    "predictions = model.predict(X_test_scaled)\n",
    "predictions"
   ]
  },
  {
   "cell_type": "code",
   "execution_count": 34,
   "metadata": {},
   "outputs": [],
   "source": [
    "from sklearn.metrics import roc_curve\n",
    "from sklearn.metrics import auc\n",
    "from sklearn.metrics import roc_auc_score\n",
    "def plot_roc_curve(fpr, tpr):\n",
    "    plt.plot(fpr, tpr, color='orange', label='ROC')\n",
    "    plt.plot([0, 1], [0, 1], color='darkblue', linestyle='--')\n",
    "    plt.xlabel('False Positive Rate')\n",
    "    plt.ylabel('True Positive Rate')\n",
    "    plt.title('Receiver Operating Characteristic (ROC) Curve')\n",
    "    plt.legend()\n",
    "    plt.show()"
   ]
  },
  {
   "cell_type": "code",
   "execution_count": 35,
   "metadata": {},
   "outputs": [
    {
     "name": "stdout",
     "output_type": "stream",
     "text": [
      "ROC_AUC Score :  1.0\n",
      "Function for ROC_AUC Score :  1.0\n",
      "Threshold value is: 1.0\n"
     ]
    },
    {
     "data": {
      "image/png": "[encoded data removed]",
      "text/plain": [
       "<Figure size 1296x576 with 1 Axes>"
      ]
     },
     "metadata": {
      "needs_background": "light"
     },
     "output_type": "display_data"
    }
   ],
   "source": [
    "# Computing manually fpr, tpr, thresholds and roc auc \n",
    "fpr, tpr, thresholds = roc_curve(y_test, predictions)\n",
    "roc_auc = auc(fpr, tpr)\n",
    "print(\"ROC_AUC Score : \",roc_auc)\n",
    "print(\"Function for ROC_AUC Score : \",roc_auc_score(y_test, predictions)) # Function present\n",
    "optimal_idx = np.argmax(tpr - fpr)\n",
    "optimal_threshold = thresholds[optimal_idx]\n",
    "print(\"Threshold value is:\", optimal_threshold)\n",
    "plot_roc_curve(fpr, tpr)"
   ]
  },
  {
   "cell_type": "code",
   "execution_count": 36,
   "metadata": {},
   "outputs": [
    {
     "data": {
      "text/plain": [
       "array([5.0021260e-23, 1.0000000e+00, 1.0000000e+00, 1.0000000e+00,\n",
       "       0.0000000e+00, 2.8150011e-13, 0.0000000e+00, 1.1828232e-22,\n",
       "       1.0000000e+00, 1.0000000e+00, 0.0000000e+00, 7.2197361e-07,\n",
       "       3.5336215e-19, 3.0055941e-15, 1.0000000e+00, 4.8026205e-35,\n",
       "       4.1009471e-09, 1.0000000e+00, 1.9371696e-38, 1.0000000e+00,\n",
       "       1.1897959e-16, 1.0000000e+00, 7.5014761e-20, 1.0000000e+00,\n",
       "       1.8684146e-25, 1.0000000e+00, 1.0000000e+00, 1.0000000e+00,\n",
       "       1.0000000e+00, 6.4943808e-15, 1.8684074e-25, 1.0000000e+00,\n",
       "       7.3433903e-31, 0.0000000e+00, 1.0000000e+00, 0.0000000e+00,\n",
       "       1.0000000e+00, 0.0000000e+00, 3.5701983e-30, 1.2858655e-27,\n",
       "       0.0000000e+00, 1.0000000e+00, 7.2197156e-07, 1.3886990e-26,\n",
       "       7.5015052e-20, 1.0000000e+00, 9.5681040e-21, 1.0000000e+00,\n",
       "       1.8684146e-25, 1.0000000e+00], dtype=float32)"
      ]
     },
     "execution_count": 36,
     "metadata": {},
     "output_type": "execute_result"
    }
   ],
   "source": [
    "np.ravel(predictions)"
   ]
  },
  {
   "cell_type": "code",
   "execution_count": 39,
   "metadata": {
    "scrolled": true
   },
   "outputs": [
    {
     "data": {
      "text/plain": [
       "[0,\n",
       " 1,\n",
       " 1,\n",
       " 1,\n",
       " 0,\n",
       " 0,\n",
       " 0,\n",
       " 0,\n",
       " 1,\n",
       " 1,\n",
       " 0,\n",
       " 0,\n",
       " 0,\n",
       " 0,\n",
       " 1,\n",
       " 0,\n",
       " 0,\n",
       " 1,\n",
       " 0,\n",
       " 1,\n",
       " 0,\n",
       " 1,\n",
       " 0,\n",
       " 1,\n",
       " 0,\n",
       " 1,\n",
       " 1,\n",
       " 1,\n",
       " 1,\n",
       " 0,\n",
       " 0,\n",
       " 1,\n",
       " 0,\n",
       " 0,\n",
       " 1,\n",
       " 0,\n",
       " 1,\n",
       " 0,\n",
       " 0,\n",
       " 0,\n",
       " 0,\n",
       " 1,\n",
       " 0,\n",
       " 0,\n",
       " 0,\n",
       " 1,\n",
       " 0,\n",
       " 1,\n",
       " 0,\n",
       " 1]"
      ]
     },
     "execution_count": 39,
     "metadata": {},
     "output_type": "execute_result"
    }
   ],
   "source": [
    "prediction_classes = [\n",
    "    1 if prob >= optimal_threshold else 0 for prob in np.ravel(predictions)\n",
    "]\n",
    "prediction_classes"
   ]
  },
  {
   "cell_type": "code",
   "execution_count": 40,
   "metadata": {},
   "outputs": [
    {
     "name": "stdout",
     "output_type": "stream",
     "text": [
      "[[29  0]\n",
      " [ 0 21]]\n"
     ]
    }
   ],
   "source": [
    "from sklearn.metrics import confusion_matrix\n",
    "print(confusion_matrix(y_test, prediction_classes))"
   ]
  },
  {
   "cell_type": "code",
   "execution_count": 41,
   "metadata": {},
   "outputs": [
    {
     "name": "stdout",
     "output_type": "stream",
     "text": [
      "Accuracy: 1.00\n",
      "Precision: 1.00\n",
      "Recall: 1.00\n"
     ]
    }
   ],
   "source": [
    "from sklearn.metrics import accuracy_score, precision_score, recall_score\n",
    "print(f'Accuracy: {accuracy_score(y_test, prediction_classes):.2f}')\n",
    "print(f'Precision: {precision_score(y_test, prediction_classes):.2f}')\n",
    "print(f'Recall: {recall_score(y_test, prediction_classes):.2f}')"
   ]
  },
  {
   "cell_type": "code",
   "execution_count": null,
   "metadata": {},
   "outputs": [],
   "source": []
  }
 ],
 "metadata": {
  "kernelspec": {
   "display_name": "Python 3",
   "language": "python",
   "name": "python3"
  },
  "language_info": {
   "codemirror_mode": {
    "name": "ipython",
    "version": 3
   },
   "file_extension": ".py",
   "mimetype": "text/x-python",
   "name": "python",
   "nbconvert_exporter": "python",
   "pygments_lexer": "ipython3",
   "version": "3.8.5"
  }
 },
 "nbformat": 4,
 "nbformat_minor": 4
}
