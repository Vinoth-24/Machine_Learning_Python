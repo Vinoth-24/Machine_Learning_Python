{
 "cells": [
  {
   "cell_type": "code",
   "execution_count": 1,
   "metadata": {},
   "outputs": [
    {
     "name": "stdout",
     "output_type": "stream",
     "text": [
      "Enter number of categories : 18\n",
      "Hairstyles\n",
      "Hairdo\n",
      "Mental Health\n",
      "Makeup\n",
      "Trending Styles\n",
      "Nakshatra\n",
      "Hair Care\n",
      "Beard\n",
      "Restaurant Stories\n",
      "Vaastu\n",
      "Home decor\n",
      "Gardening\n",
      "Exercise/Workout\n",
      "DIY craft\n",
      "Pregnancy\n",
      "Tattoos\n",
      "Nature\n",
      "OTT\n",
      "['Hairstyles', 'Hairdo', 'Mental Health', 'Makeup', 'Trending Styles', 'Nakshatra', 'Hair Care', 'Beard', 'Restaurant Stories', 'Vaastu', 'Home decor', 'Gardening', 'Exercise/Workout', 'DIY craft', 'Pregnancy', 'Tattoos', 'Nature', 'OTT']\n"
     ]
    }
   ],
   "source": [
    "# importing libraries\n",
    "import pandas as pd\n",
    "import seaborn as sns\n",
    "import numpy as np\n",
    "import matplotlib.pyplot as plt\n",
    "import string\n",
    "from pandas import Series,ExcelWriter\n",
    "\n",
    "#reading data and preprocessing data.\n",
    "overall_data= pd.read_excel(r\"C:\\Users\\new\\Documents\\PythonFiles\\Trell project\\Work\\Input sheet\\Trail_Performance_Malayalam_2021_09_24.xlsx\",sheet_name=\"Overall\")\n",
    "cat=pd.read_excel(r\"C:\\Users\\new\\Documents\\PythonFiles\\Trell project\\Work\\Input sheet\\Trail_Performance_Malayalam_2021_09_24.xlsx\",sheet_name=\"Final Ranking\")\n",
    "overall_data['CP_0sec']= overall_data['CP_0sec']*100\n",
    "data = overall_data[overall_data['CP_0sec'].notna()]\n",
    "overall_data['CP_0sec']= overall_data['CP_0sec'].map(\"{:,.2f}%\".format)\n",
    "\n",
    "# number of categories as input.\n",
    "categories = [] \n",
    "n = int(input(\"Enter number of categories : \"))\n",
    " \n",
    "# iterating till all the categories is input.\n",
    "#Note: Category names should be exactly matching the L1 category names.\n",
    "for i in range(0, n):\n",
    "    ele = str(input())\n",
    "   # if ele == \"beard\":\n",
    "   #     ele= [\"Beard Care\", \"Beard Styles\"]\n",
    "    categories.append(ele)\n",
    "print(categories)\n",
    "\n",
    "# sorting algorithm\n",
    "null=list()\n",
    "z=0\n",
    "null.insert(z,cat)\n",
    "z=z+1\n",
    "null.insert(z,overall_data)\n",
    "for i in categories:\n",
    "    z=z+1\n",
    "    #if i == \"Beard\":\n",
    "     #   i = ['Beard Care', 'Beard Styles']\n",
    "        #data_1=data[data.L1_category.isin(i)]\n",
    "    #else:\n",
    "    data_1 = data[data['L1_category'].str.contains(i, na=False)]\n",
    "    a = data_1.sort_values(by ='views_0sec', ascending = 0)\n",
    "    data_2 = a[a['views_0sec'] > a['views_0sec'].mean()]\n",
    "    b = data_2.sort_values(by ='CP_0sec', ascending = 0)\n",
    "    data_3 = b[b['CP_0sec'] > 15.00]\n",
    "    c = data_3.sort_values(by ='average_timespent', ascending = 0)\n",
    "    data_4 = b[b['CP_0sec'] < 15.00]\n",
    "    d = data_4.sort_values(by ='average_timespent', ascending = 0)\n",
    "    c_d = pd.concat([c, d], axis=0)\n",
    "    data_5 = a[a['views_0sec'] < a['views_0sec'].mean()]\n",
    "    e = data_5.sort_values(by ='CP_0sec', ascending = 0)\n",
    "    data_6 = e[e['CP_0sec'] > 15.00]\n",
    "    f = data_6.sort_values(by ='average_timespent', ascending = 0)\n",
    "    data_7 = e[e['CP_0sec'] < 15.00]\n",
    "    g = data_7.sort_values(by ='average_timespent', ascending = 0)\n",
    "    f_g = pd.concat([f, g], axis=0)\n",
    "    c_d_f_g = pd.concat([c_d, f_g], axis=0)\n",
    "    Final_data= c_d_f_g\n",
    "    Final_data['CP_0sec'] = Final_data['CP_0sec'].map(\"{:,.2f}%\".format)\n",
    "    null.insert(z,Final_data)\n",
    "    \n",
    "# replacing unwanted symbols for Sheetnames    \n",
    "p=0\n",
    "for i in categories:\n",
    "    categories[p] = i.replace(r'/', ' ')\n",
    "    \n",
    "    p=p+1\n",
    "    \n",
    "# writing data sheet by sheet onto Excel Workbook\n",
    "with pd.ExcelWriter('C:\\\\Users\\\\new\\Documents\\\\PythonFiles\\\\Trell project\\\\Work\\\\Output sheet\\\\Trail_Performance_Malayalam_24.09.21.xlsx') as writer:\n",
    "    j=0\n",
    "    null[j].to_excel(writer, sheet_name= 'Categories', index=False)\n",
    "    j=j+1\n",
    "    null[j].to_excel(writer, sheet_name= 'Overall Data', index=False)\n",
    "    for i in range(len(categories)):\n",
    "        sheetname=categories[i]\n",
    "        j=j+1\n",
    "        null[j].to_excel(writer, sheet_name= sheetname, index=False)\n",
    "        "
   ]
  },
  {
   "cell_type": "code",
   "execution_count": 2,
   "metadata": {},
   "outputs": [
    {
     "ename": "NameError",
     "evalue": "name 'df' is not defined",
     "output_type": "error",
     "traceback": [
      "\u001b[1;31m---------------------------------------------------------------------------\u001b[0m",
      "\u001b[1;31mNameError\u001b[0m                                 Traceback (most recent call last)",
      "\u001b[1;32m<ipython-input-2-a9e0a9261e27>\u001b[0m in \u001b[0;36m<module>\u001b[1;34m\u001b[0m\n\u001b[1;32m----> 1\u001b[1;33m \u001b[0mdf\u001b[0m\u001b[1;33m[\u001b[0m\u001b[0mdf\u001b[0m\u001b[1;33m[\u001b[0m\u001b[1;34m'A'\u001b[0m\u001b[1;33m]\u001b[0m\u001b[1;33m.\u001b[0m\u001b[0mstr\u001b[0m\u001b[1;33m.\u001b[0m\u001b[0mcontains\u001b[0m\u001b[1;33m(\u001b[0m\u001b[1;34m\"hello\"\u001b[0m\u001b[1;33m)\u001b[0m\u001b[1;33m]\u001b[0m\u001b[1;33m\u001b[0m\u001b[1;33m\u001b[0m\u001b[0m\n\u001b[0m",
      "\u001b[1;31mNameError\u001b[0m: name 'df' is not defined"
     ]
    }
   ],
   "source": [
    "df[df['A'].str.contains(\"hello\")]"
   ]
  }
 ],
 "metadata": {
  "kernelspec": {
   "display_name": "Python 3",
   "language": "python",
   "name": "python3"
  },
  "language_info": {
   "codemirror_mode": {
    "name": "ipython",
    "version": 3
   },
   "file_extension": ".py",
   "mimetype": "text/x-python",
   "name": "python",
   "nbconvert_exporter": "python",
   "pygments_lexer": "ipython3",
   "version": "3.8.5"
  }
 },
 "nbformat": 4,
 "nbformat_minor": 4
}
